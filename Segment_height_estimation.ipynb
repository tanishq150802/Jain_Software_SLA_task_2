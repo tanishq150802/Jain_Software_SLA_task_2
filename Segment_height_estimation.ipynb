{
 "cells": [
  {
   "cell_type": "markdown",
   "id": "9a01f8a1",
   "metadata": {},
   "source": [
    "**Card detection - drawing a bounding box around card**"
   ]
  },
  {
   "cell_type": "code",
   "execution_count": 90,
   "id": "1510caea",
   "metadata": {},
   "outputs": [
    {
     "name": "stdout",
     "output_type": "stream",
     "text": [
      "The width of card is 493\n"
     ]
    },
    {
     "data": {
      "text/plain": [
       "-1"
      ]
     },
     "execution_count": 90,
     "metadata": {},
     "output_type": "execute_result"
    }
   ],
   "source": [
    "import cv2\n",
    "import numpy as np\n",
    "\n",
    "def clahe(img, clip_limit=2.0, grid_size=(8,8)):\n",
    "    clahe = cv2.createCLAHE(clipLimit=clip_limit, tileGridSize=grid_size)\n",
    "    return clahe.apply(img)\n",
    "\n",
    "src = cv2.imread(\"img.jpeg\")\n",
    "\n",
    "# HSV thresholding to get rid of as much background as possible\n",
    "hsv = cv2.cvtColor(src.copy(), cv2.COLOR_BGR2HSV)\n",
    "lower_blue = np.array([0, 0, 50])\n",
    "upper_blue = np.array([180, 100, 255])\n",
    "mask = cv2.inRange(hsv, lower_blue, upper_blue)\n",
    "result = cv2.bitwise_and(src, src, mask=mask)\n",
    "b, g, r = cv2.split(result)\n",
    "g = clahe(g, 5, (3, 3))\n",
    "\n",
    "# Adaptive Thresholding to isolate the card\n",
    "img_blur = cv2.blur(g, (9, 9))\n",
    "img_th = cv2.adaptiveThreshold(img_blur, 0, cv2.ADAPTIVE_THRESH_GAUSSIAN_C,\n",
    "                               cv2.THRESH_BINARY, 51, 2)\n",
    "\n",
    "contours, hierarchy = cv2.findContours(img_th,\n",
    "                                           cv2.RETR_CCOMP,\n",
    "                                           cv2.CHAIN_APPROX_SIMPLE)\n",
    "\n",
    "# Filter the rectangle by choosing only the big ones\n",
    "# and choose the brightest rectangle as the card\n",
    "max_brightness = 0\n",
    "canvas = src.copy()\n",
    "for cnt in contours:\n",
    "    rect = cv2.boundingRect(cnt)\n",
    "    x, y, w, h = rect\n",
    "    if w*h > 40000 and w*h<45000:\n",
    "        mask = np.zeros(src.shape, np.uint8)\n",
    "        mask[y:y+h, x:x+w] = src[y:y+h, x:x+w]\n",
    "        brightness = np.sum(mask)\n",
    "        if brightness > max_brightness:\n",
    "            brightest_rectangle = rect\n",
    "            max_brightness = brightness\n",
    "        # cv2.imshow(\"mask\", mask)\n",
    "        cv2.waitKey(0)\n",
    "\n",
    "x, y, w, h = brightest_rectangle\n",
    "print(\"The width of card is\", w)\n",
    "cv2.rectangle(canvas, (x, y), (x+w, y+h), (0, 255, 0), 5)\n",
    "# cv2.imshow(\"canvas\", canvas)\n",
    "canvas = cv2.circle(canvas, (x+int(w/2)-10,y+int(h/2)+50), 5, color=(0, 0, 255), thickness=-1)\n",
    "cv2.imwrite(\"card_detected.jpg\", canvas)\n",
    "cv2.waitKey(0)"
   ]
  },
  {
   "cell_type": "code",
   "execution_count": 91,
   "id": "a06d9b45",
   "metadata": {},
   "outputs": [
    {
     "data": {
      "text/plain": [
       "True"
      ]
     },
     "execution_count": 91,
     "metadata": {},
     "output_type": "execute_result"
    }
   ],
   "source": [
    "crop=canvas[x:x+h,y:y+w]\n",
    "cv2.imwrite(\"card.jpg\", crop)"
   ]
  },
  {
   "cell_type": "markdown",
   "id": "440dec2c",
   "metadata": {},
   "source": [
    "**Refining the card size**"
   ]
  },
  {
   "cell_type": "code",
   "execution_count": 92,
   "id": "6dbe4c5c",
   "metadata": {},
   "outputs": [
    {
     "name": "stdout",
     "output_type": "stream",
     "text": [
      "The corrected width of card is 441\n"
     ]
    }
   ],
   "source": [
    "import cv2\n",
    "import numpy as np\n",
    "\n",
    "\n",
    "card_img = cv2.imread(\"card.jpg\")\n",
    "orig_img = card_img\n",
    "card_img = cv2.cvtColor(card_img, cv2.COLOR_BGR2GRAY)\n",
    "threshold = int(np.average(card_img))\n",
    "\n",
    "threshold_img = cv2.adaptiveThreshold(card_img, 255, cv2.ADAPTIVE_THRESH_MEAN_C, cv2.THRESH_BINARY, 199, 2)\n",
    "colors, counts = np.unique(threshold_img.flatten(), \n",
    "                           return_counts = True, \n",
    "                           axis = 0)\n",
    "\n",
    "area = 0\n",
    "\n",
    "if(colors[0] == 255):\n",
    "    area = counts[0]\n",
    "\n",
    "else:\n",
    "    area = counts[1]\n",
    "\n",
    "width = int(np.sqrt(area/28)*7)\n",
    "height = int(np.sqrt(area/28)*4)\n",
    "width_final=width\n",
    "print(\"The corrected width of card is\", width_final)\n",
    "centroid = np.array((int(threshold_img.shape[1]/2), int(threshold_img.shape[0]/2)))\n",
    "\n",
    "\n",
    "cv2.rectangle(orig_img, centroid + np.array([width/2, height/2], dtype=np.int16), centroid - np.array([width/2, height/2], dtype=np.int16), color=(0, 0,255), thickness=5)\n",
    "\n",
    "cv2.imwrite(\"threshold_image.jpg\", orig_img)\n",
    "cv2.waitKey(0)\n",
    "cv2.destroyAllWindows()"
   ]
  },
  {
   "cell_type": "markdown",
   "id": "d4a1f0e0",
   "metadata": {},
   "source": [
    "**Progressive segment height**"
   ]
  },
  {
   "cell_type": "code",
   "execution_count": 108,
   "id": "ef35dda2",
   "metadata": {},
   "outputs": [
    {
     "name": "stdout",
     "output_type": "stream",
     "text": [
      "The progressive segment height is 113\n"
     ]
    }
   ],
   "source": [
    "import cv2\n",
    "import numpy as np\n",
    "\n",
    "img = cv2.imread('img.jpeg')\n",
    "img_resized = img\n",
    "# img_resized = cv2.resize(img, (0,0), fx=0.5, fy=0.5)\n",
    "gray_resized = cv2.cvtColor(img_resized, cv2.COLOR_BGR2GRAY)\n",
    "\n",
    "t_lower = 50  # Lower Threshold\n",
    "t_upper = 150  # Upper threshold\n",
    "  \n",
    "# Applying the Canny Edge filter\n",
    "edge = cv2.Canny(img, t_lower, t_upper)\n",
    "# edge_resized = cv2.resize(edge, (0,0), fx=0.5, fy=0.5)\n",
    "edge_resized = edge\n",
    "\n",
    "classifier =cv2. CascadeClassifier('haarcascade_eye_tree_eyeglasses.xml')\n",
    "boxes = classifier.detectMultiScale(gray_resized)\n",
    "pupil=[]\n",
    "w=0\n",
    "h=0\n",
    "for box in boxes:\n",
    "    x, y, width, height = box\n",
    "    x2, y2 = x + width, y + height\n",
    "    # cv2.rectangle(img_resized, (x, y), (x2, y2), (0,255,0), 5)\n",
    "    pupil.append([int((x+x2)/2), int((y+y2)/2)])\n",
    "    w=width\n",
    "    h=height\n",
    "\n",
    "search_region = edge_resized[int(pupil[0][1]):int(pupil[0][1]+424/2), int(pupil[0][0]-w/2):int(pupil[0][0]+w/2)]\n",
    "element_wise_avg = []\n",
    "max_idx = 0\n",
    "max_val = 0\n",
    "for i in range(search_region.shape[0]):\n",
    "    average = np.average(search_region[i])\n",
    "    element_wise_avg.append(average)\n",
    "    if average > max_val:\n",
    "        max_val = average\n",
    "        max_idx = i\n",
    "\n",
    "\n",
    "\n",
    "pupil = np.array(pupil)\n",
    "pupil = pupil\n",
    "line =cv2.line(img_resized, tuple(pupil[0]), tuple([pupil[0][0], pupil[0][1] + max_idx]), (0, 255, 0), thickness=5)\n",
    "image = cv2.circle(img_resized, (int(pupil[0][0]),int(pupil[0][1])), 5, color=(0, 0, 255), thickness=-1)\n",
    "image = cv2.circle(img_resized, (int(pupil[1][0]),int(pupil[1][1])), 5, color=(0, 0, 255), thickness=-1)\n",
    "\n",
    "line = cv2.putText(line, str(round((9*max_idx)/width_final,2))+\"cm\", tuple([pupil[0][0],pupil[0][1]+int(max_idx/2)]), cv2.FONT_HERSHEY_SIMPLEX, 1, (255, 0, 0), 5, cv2.LINE_AA)\n",
    "print(\"The progressive segment height is\", max_idx)\n",
    "cv2.imwrite(\"line.jpg\", line)\n",
    "cv2.waitKey(0)\n",
    "cv2.destroyAllWindows()"
   ]
  },
  {
   "cell_type": "markdown",
   "id": "8044ad99",
   "metadata": {},
   "source": [
    "**Final Scaling for progressive segment height**"
   ]
  },
  {
   "cell_type": "code",
   "execution_count": 94,
   "id": "78d652ef",
   "metadata": {},
   "outputs": [
    {
     "name": "stdout",
     "output_type": "stream",
     "text": [
      "The progressive segment height in cm is 2.306122448979592\n"
     ]
    }
   ],
   "source": [
    "print(\"The progressive segment height in cm is\", (9*max_idx)/width_final)"
   ]
  },
  {
   "cell_type": "markdown",
   "id": "791e96ae",
   "metadata": {},
   "source": [
    "**Bifocal segment height**"
   ]
  },
  {
   "cell_type": "code",
   "execution_count": 95,
   "id": "5aad6bf9",
   "metadata": {},
   "outputs": [],
   "source": [
    "import numpy as np\n",
    "import dlib\n",
    "import cv2\n",
    "import matplotlib.pyplot as plt\n",
    "from PIL import Image\n",
    "import statistics"
   ]
  },
  {
   "cell_type": "code",
   "execution_count": 109,
   "id": "56c90472",
   "metadata": {},
   "outputs": [
    {
     "name": "stdout",
     "output_type": "stream",
     "text": [
      "The bifocal segment height is 90\n"
     ]
    },
    {
     "data": {
      "text/plain": [
       "True"
      ]
     },
     "execution_count": 109,
     "metadata": {},
     "output_type": "execute_result"
    }
   ],
   "source": [
    "detector = dlib.get_frontal_face_detector()\n",
    "predictor = dlib.shape_predictor('shape_predictor_68_face_landmarks.dat')\n",
    "img = dlib.load_rgb_image(\"img.jpeg\")    \n",
    "rect = detector(img)[0]\n",
    "sp = predictor(img, rect)\n",
    "landmarks = np.array([[p.x, p.y] for p in sp.parts()])\n",
    "pupil_edge_x = []\n",
    "pupil_edge_y = []\n",
    "for i in [41,47]:\n",
    "        pupil_edge_x.append(landmarks[i][0])\n",
    "        pupil_edge_y.append(landmarks[i][1])\n",
    "        \n",
    "x_min = min(pupil_edge_x)\n",
    "x_max = max(pupil_edge_x)\n",
    "\n",
    "y_min = min(pupil_edge_y)\n",
    "y_max = max(pupil_edge_y)\n",
    "img = cv2.imread('img.jpeg')\n",
    "img = cv2.circle(img, (x_min,y_min+10), 5, color=(0, 0, 255), thickness=-1)\n",
    "img =cv2.line(img, (x_min,y_min+10), tuple([x_min, pupil[1][1] + max_idx]), (0, 255, 0), thickness=5)\n",
    "img = cv2.putText(img, str(round((9*(pupil[1][1]+max_idx-y_min-10))/width_final,2))+\"cm\", tuple([x_min,int((y_min+10+pupil[1][1]+max_idx)/2)]), cv2.FONT_HERSHEY_SIMPLEX, 1, (255, 0, 0), 5, cv2.LINE_AA)\n",
    "print(\"The bifocal segment height is\", pupil[1][1]+max_idx-y_min-10)\n",
    "cv2.imwrite(\"bifocal.jpg\",img)"
   ]
  },
  {
   "cell_type": "code",
   "execution_count": 105,
   "id": "8891d630",
   "metadata": {},
   "outputs": [
    {
     "name": "stdout",
     "output_type": "stream",
     "text": [
      "The bifocal segment height in cm is 1.836734693877551\n"
     ]
    }
   ],
   "source": [
    "print(\"The bifocal segment height in cm is\", (9*(pupil[1][1]+max_idx-y_min-10))/width_final)"
   ]
  }
 ],
 "metadata": {
  "kernelspec": {
   "display_name": "Python 3 (ipykernel)",
   "language": "python",
   "name": "python3"
  },
  "language_info": {
   "codemirror_mode": {
    "name": "ipython",
    "version": 3
   },
   "file_extension": ".py",
   "mimetype": "text/x-python",
   "name": "python",
   "nbconvert_exporter": "python",
   "pygments_lexer": "ipython3",
   "version": "3.8.16"
  }
 },
 "nbformat": 4,
 "nbformat_minor": 5
}
